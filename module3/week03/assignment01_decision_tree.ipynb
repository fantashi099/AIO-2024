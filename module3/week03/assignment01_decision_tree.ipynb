{
 "cells": [
  {
   "cell_type": "code",
   "execution_count": null,
   "metadata": {},
   "outputs": [],
   "source": [
    "from sklearn . datasets import fetch_openml\n",
    "from sklearn . model_selection import train_test_split\n",
    "from sklearn . metrics import mean_squared_error\n",
    "from sklearn . tree import DecisionTreeRegressor\n",
    "\n",
    "# Load dataset\n",
    "machine_cpu = fetch_openml(name='machine_cpu')\n",
    "machine_data = machine_cpu.data\n",
    "machine_labels = machine_cpu.target\n",
    "# Split train:test = 8:2\n",
    "X_train , X_test , y_train , y_test = train_test_split(\n",
    "    machine_data, machine_labels,\n",
    "    test_size=0.2,\n",
    "    random_state=42\n",
    ")\n",
    "\n",
    "# Define model\n",
    "tree_reg = DecisionTreeRegressor()\n",
    "\n",
    "# Train\n",
    "tree_reg.fit(X_train, y_train)\n",
    "\n",
    "# Preidct and evaluate\n",
    "y_pred = tree_reg.predict(X_test)\n",
    "mean_squared_error(y_test, y_pred)"
   ]
  }
 ],
 "metadata": {
  "language_info": {
   "name": "python"
  }
 },
 "nbformat": 4,
 "nbformat_minor": 2
}
